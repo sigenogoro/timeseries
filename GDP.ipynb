{
 "cells": [
  {
   "cell_type": "code",
   "execution_count": 185,
   "metadata": {},
   "outputs": [
    {
     "data": {
      "text/html": [
       "<div>\n",
       "<style scoped>\n",
       "    .dataframe tbody tr th:only-of-type {\n",
       "        vertical-align: middle;\n",
       "    }\n",
       "\n",
       "    .dataframe tbody tr th {\n",
       "        vertical-align: top;\n",
       "    }\n",
       "\n",
       "    .dataframe thead th {\n",
       "        text-align: right;\n",
       "    }\n",
       "</style>\n",
       "<table border=\"1\" class=\"dataframe\">\n",
       "  <thead>\n",
       "    <tr style=\"text-align: right;\">\n",
       "      <th></th>\n",
       "      <th>CPI</th>\n",
       "      <th>コアCPI</th>\n",
       "      <th>コアコアCPI</th>\n",
       "      <th>消費支出（一人当たり）</th>\n",
       "      <th>完全失業率</th>\n",
       "      <th>国内総生産(支出側)実質</th>\n",
       "      <th>民間最終消費支出</th>\n",
       "      <th>家計最終消費支出</th>\n",
       "      <th>除く持ち家の帰属家賃</th>\n",
       "    </tr>\n",
       "  </thead>\n",
       "  <tbody>\n",
       "    <tr>\n",
       "      <th>2000-01-01</th>\n",
       "      <td>99.1</td>\n",
       "      <td>99.8</td>\n",
       "      <td>102.0</td>\n",
       "      <td>3374494.0</td>\n",
       "      <td>4.7</td>\n",
       "      <td>464239.8</td>\n",
       "      <td>264032.1</td>\n",
       "      <td>259196.1</td>\n",
       "      <td>217105.6</td>\n",
       "    </tr>\n",
       "    <tr>\n",
       "      <th>2001-01-01</th>\n",
       "      <td>98.4</td>\n",
       "      <td>99.0</td>\n",
       "      <td>101.1</td>\n",
       "      <td>3278199.0</td>\n",
       "      <td>5.0</td>\n",
       "      <td>461642.4</td>\n",
       "      <td>268771.1</td>\n",
       "      <td>263587.5</td>\n",
       "      <td>220521.8</td>\n",
       "    </tr>\n",
       "    <tr>\n",
       "      <th>2002-01-01</th>\n",
       "      <td>97.5</td>\n",
       "      <td>98.1</td>\n",
       "      <td>100.4</td>\n",
       "      <td>3238022.0</td>\n",
       "      <td>5.4</td>\n",
       "      <td>465762.7</td>\n",
       "      <td>271866.4</td>\n",
       "      <td>266870.2</td>\n",
       "      <td>222899.0</td>\n",
       "    </tr>\n",
       "    <tr>\n",
       "      <th>2003-01-01</th>\n",
       "      <td>97.2</td>\n",
       "      <td>97.8</td>\n",
       "      <td>99.9</td>\n",
       "      <td>3197186.0</td>\n",
       "      <td>5.3</td>\n",
       "      <td>475119.3</td>\n",
       "      <td>274048.3</td>\n",
       "      <td>268648.6</td>\n",
       "      <td>223811.0</td>\n",
       "    </tr>\n",
       "    <tr>\n",
       "      <th>2004-01-01</th>\n",
       "      <td>97.2</td>\n",
       "      <td>97.7</td>\n",
       "      <td>99.7</td>\n",
       "      <td>3213351.0</td>\n",
       "      <td>4.7</td>\n",
       "      <td>482802.9</td>\n",
       "      <td>276932.6</td>\n",
       "      <td>271551.3</td>\n",
       "      <td>226022.5</td>\n",
       "    </tr>\n",
       "  </tbody>\n",
       "</table>\n",
       "</div>"
      ],
      "text/plain": [
       "             CPI  コアCPI  コアコアCPI  消費支出（一人当たり）  完全失業率  国内総生産(支出側)実質  民間最終消費支出  \\\n",
       "2000-01-01  99.1   99.8    102.0    3374494.0    4.7      464239.8  264032.1   \n",
       "2001-01-01  98.4   99.0    101.1    3278199.0    5.0      461642.4  268771.1   \n",
       "2002-01-01  97.5   98.1    100.4    3238022.0    5.4      465762.7  271866.4   \n",
       "2003-01-01  97.2   97.8     99.9    3197186.0    5.3      475119.3  274048.3   \n",
       "2004-01-01  97.2   97.7     99.7    3213351.0    4.7      482802.9  276932.6   \n",
       "\n",
       "            家計最終消費支出  除く持ち家の帰属家賃  \n",
       "2000-01-01  259196.1    217105.6  \n",
       "2001-01-01  263587.5    220521.8  \n",
       "2002-01-01  266870.2    222899.0  \n",
       "2003-01-01  268648.6    223811.0  \n",
       "2004-01-01  271551.3    226022.5  "
      ]
     },
     "execution_count": 185,
     "metadata": {},
     "output_type": "execute_result"
    }
   ],
   "source": [
    "#必要なライブラリをインポート\n",
    "import pandas as pd\n",
    "import matplotlib.pyplot as plt\n",
    "import seaborn as sns\n",
    "import numpy as np\n",
    "import scipy as sp\n",
    "%matplotlib inline\n",
    "#自分で作った時系列データをpd.read_csvを使ってインポート\n",
    "df = pd.read_csv('消費指標&収入.csv', parse_dates=[0], index_col=[0])\n",
    "\n",
    "#自分で作ったが、NaN欄が多いために、dropna()を使って削除\n",
    "x = df.dropna()\n",
    "x.head()\n"
   ]
  },
  {
   "cell_type": "code",
   "execution_count": 186,
   "metadata": {},
   "outputs": [
    {
     "data": {
      "text/plain": [
       "CPI             float64\n",
       "コアCPI           float64\n",
       "コアコアCPI         float64\n",
       "消費支出（一人当たり）     float64\n",
       "完全失業率           float64\n",
       "国内総生産(支出側)実質    float64\n",
       "民間最終消費支出        float64\n",
       "家計最終消費支出        float64\n",
       "除く持ち家の帰属家賃      float64\n",
       "dtype: object"
      ]
     },
     "execution_count": 186,
     "metadata": {},
     "output_type": "execute_result"
    }
   ],
   "source": [
    "#データ型を確認（全てfloat64にしないと計算ツール（scipyやnumpyが扱えないから）\n",
    "x.dtypes"
   ]
  },
  {
   "cell_type": "code",
   "execution_count": 187,
   "metadata": {},
   "outputs": [
    {
     "data": {
      "text/html": [
       "<div>\n",
       "<style scoped>\n",
       "    .dataframe tbody tr th:only-of-type {\n",
       "        vertical-align: middle;\n",
       "    }\n",
       "\n",
       "    .dataframe tbody tr th {\n",
       "        vertical-align: top;\n",
       "    }\n",
       "\n",
       "    .dataframe thead th {\n",
       "        text-align: right;\n",
       "    }\n",
       "</style>\n",
       "<table border=\"1\" class=\"dataframe\">\n",
       "  <thead>\n",
       "    <tr style=\"text-align: right;\">\n",
       "      <th></th>\n",
       "      <th>CPI</th>\n",
       "      <th>コアCPI</th>\n",
       "      <th>コアコアCPI</th>\n",
       "      <th>消費支出（一人当たり）</th>\n",
       "      <th>完全失業率</th>\n",
       "      <th>国内総生産(支出側)実質</th>\n",
       "      <th>民間最終消費支出</th>\n",
       "      <th>家計最終消費支出</th>\n",
       "      <th>除く持ち家の帰属家賃</th>\n",
       "    </tr>\n",
       "  </thead>\n",
       "  <tbody>\n",
       "    <tr>\n",
       "      <th>2000-01-01</th>\n",
       "      <td>1.153264</td>\n",
       "      <td>1.481129</td>\n",
       "      <td>1.926337</td>\n",
       "      <td>2.132271</td>\n",
       "      <td>0.464582</td>\n",
       "      <td>-1.510824</td>\n",
       "      <td>-1.932774</td>\n",
       "      <td>-1.979415</td>\n",
       "      <td>-1.994390</td>\n",
       "    </tr>\n",
       "    <tr>\n",
       "      <th>2001-01-01</th>\n",
       "      <td>0.569271</td>\n",
       "      <td>0.761724</td>\n",
       "      <td>1.316131</td>\n",
       "      <td>1.369085</td>\n",
       "      <td>0.920230</td>\n",
       "      <td>-1.651465</td>\n",
       "      <td>-1.472514</td>\n",
       "      <td>-1.512728</td>\n",
       "      <td>-1.469122</td>\n",
       "    </tr>\n",
       "    <tr>\n",
       "      <th>2002-01-01</th>\n",
       "      <td>-0.181578</td>\n",
       "      <td>-0.047608</td>\n",
       "      <td>0.841526</td>\n",
       "      <td>1.050662</td>\n",
       "      <td>1.527760</td>\n",
       "      <td>-1.428364</td>\n",
       "      <td>-1.171893</td>\n",
       "      <td>-1.163865</td>\n",
       "      <td>-1.103608</td>\n",
       "    </tr>\n",
       "    <tr>\n",
       "      <th>2003-01-01</th>\n",
       "      <td>-0.431861</td>\n",
       "      <td>-0.317385</td>\n",
       "      <td>0.502523</td>\n",
       "      <td>0.727017</td>\n",
       "      <td>1.375878</td>\n",
       "      <td>-0.921734</td>\n",
       "      <td>-0.959983</td>\n",
       "      <td>-0.974869</td>\n",
       "      <td>-0.963380</td>\n",
       "    </tr>\n",
       "    <tr>\n",
       "      <th>2004-01-01</th>\n",
       "      <td>-0.431861</td>\n",
       "      <td>-0.407310</td>\n",
       "      <td>0.366921</td>\n",
       "      <td>0.855132</td>\n",
       "      <td>0.464582</td>\n",
       "      <td>-0.505691</td>\n",
       "      <td>-0.679854</td>\n",
       "      <td>-0.666390</td>\n",
       "      <td>-0.623344</td>\n",
       "    </tr>\n",
       "    <tr>\n",
       "      <th>2005-01-01</th>\n",
       "      <td>-0.682143</td>\n",
       "      <td>-0.497236</td>\n",
       "      <td>0.027918</td>\n",
       "      <td>0.734197</td>\n",
       "      <td>0.008934</td>\n",
       "      <td>0.023226</td>\n",
       "      <td>-0.238669</td>\n",
       "      <td>-0.202550</td>\n",
       "      <td>-0.041338</td>\n",
       "    </tr>\n",
       "    <tr>\n",
       "      <th>2006-01-01</th>\n",
       "      <td>-0.431861</td>\n",
       "      <td>-0.407310</td>\n",
       "      <td>-0.243285</td>\n",
       "      <td>-0.066746</td>\n",
       "      <td>-0.446714</td>\n",
       "      <td>0.396991</td>\n",
       "      <td>-0.038501</td>\n",
       "      <td>0.007318</td>\n",
       "      <td>0.171202</td>\n",
       "    </tr>\n",
       "    <tr>\n",
       "      <th>2007-01-01</th>\n",
       "      <td>-0.431861</td>\n",
       "      <td>-0.407310</td>\n",
       "      <td>-0.311086</td>\n",
       "      <td>0.260443</td>\n",
       "      <td>-0.750479</td>\n",
       "      <td>0.723090</td>\n",
       "      <td>0.193037</td>\n",
       "      <td>0.272012</td>\n",
       "      <td>0.466494</td>\n",
       "    </tr>\n",
       "    <tr>\n",
       "      <th>2008-01-01</th>\n",
       "      <td>0.736126</td>\n",
       "      <td>0.851649</td>\n",
       "      <td>0.231320</td>\n",
       "      <td>0.239456</td>\n",
       "      <td>-0.598596</td>\n",
       "      <td>-0.220613</td>\n",
       "      <td>-0.377175</td>\n",
       "      <td>-0.347188</td>\n",
       "      <td>-0.513253</td>\n",
       "    </tr>\n",
       "    <tr>\n",
       "      <th>2009-01-01</th>\n",
       "      <td>-0.431861</td>\n",
       "      <td>-0.227459</td>\n",
       "      <td>-0.039883</td>\n",
       "      <td>-0.481963</td>\n",
       "      <td>1.072113</td>\n",
       "      <td>-0.791029</td>\n",
       "      <td>-0.130514</td>\n",
       "      <td>-0.107542</td>\n",
       "      <td>-0.258153</td>\n",
       "    </tr>\n",
       "    <tr>\n",
       "      <th>2010-01-01</th>\n",
       "      <td>-1.015854</td>\n",
       "      <td>-1.126716</td>\n",
       "      <td>-0.921292</td>\n",
       "      <td>-0.614358</td>\n",
       "      <td>1.072113</td>\n",
       "      <td>0.040607</td>\n",
       "      <td>0.250212</td>\n",
       "      <td>0.272437</td>\n",
       "      <td>0.200908</td>\n",
       "    </tr>\n",
       "    <tr>\n",
       "      <th>2011-01-01</th>\n",
       "      <td>-1.182709</td>\n",
       "      <td>-1.396493</td>\n",
       "      <td>-1.395897</td>\n",
       "      <td>-1.099914</td>\n",
       "      <td>0.312699</td>\n",
       "      <td>0.167890</td>\n",
       "      <td>0.468901</td>\n",
       "      <td>0.445471</td>\n",
       "      <td>0.389508</td>\n",
       "    </tr>\n",
       "    <tr>\n",
       "      <th>2012-01-01</th>\n",
       "      <td>-1.266137</td>\n",
       "      <td>-1.396493</td>\n",
       "      <td>-1.667099</td>\n",
       "      <td>-1.059153</td>\n",
       "      <td>-0.142948</td>\n",
       "      <td>0.394836</td>\n",
       "      <td>0.929851</td>\n",
       "      <td>0.893327</td>\n",
       "      <td>0.928261</td>\n",
       "    </tr>\n",
       "    <tr>\n",
       "      <th>2013-01-01</th>\n",
       "      <td>-0.932426</td>\n",
       "      <td>-1.126716</td>\n",
       "      <td>-1.802701</td>\n",
       "      <td>-0.685909</td>\n",
       "      <td>-0.598596</td>\n",
       "      <td>1.103531</td>\n",
       "      <td>1.706466</td>\n",
       "      <td>1.732832</td>\n",
       "      <td>2.023834</td>\n",
       "    </tr>\n",
       "    <tr>\n",
       "      <th>2014-01-01</th>\n",
       "      <td>1.236692</td>\n",
       "      <td>1.211352</td>\n",
       "      <td>-0.378886</td>\n",
       "      <td>-0.694881</td>\n",
       "      <td>-1.206127</td>\n",
       "      <td>1.019051</td>\n",
       "      <td>0.974983</td>\n",
       "      <td>0.983245</td>\n",
       "      <td>0.836867</td>\n",
       "    </tr>\n",
       "    <tr>\n",
       "      <th>2015-01-01</th>\n",
       "      <td>1.904112</td>\n",
       "      <td>1.660980</td>\n",
       "      <td>0.570323</td>\n",
       "      <td>-1.109091</td>\n",
       "      <td>-1.509892</td>\n",
       "      <td>1.417783</td>\n",
       "      <td>1.200656</td>\n",
       "      <td>1.153176</td>\n",
       "      <td>0.990072</td>\n",
       "    </tr>\n",
       "    <tr>\n",
       "      <th>2016-01-01</th>\n",
       "      <td>1.820685</td>\n",
       "      <td>1.391203</td>\n",
       "      <td>0.977128</td>\n",
       "      <td>-1.556248</td>\n",
       "      <td>-1.965540</td>\n",
       "      <td>1.742713</td>\n",
       "      <td>1.277770</td>\n",
       "      <td>1.194729</td>\n",
       "      <td>0.959443</td>\n",
       "    </tr>\n",
       "  </tbody>\n",
       "</table>\n",
       "</div>"
      ],
      "text/plain": [
       "                 CPI     コアCPI   コアコアCPI  消費支出（一人当たり）     完全失業率  国内総生産(支出側)実質  \\\n",
       "2000-01-01  1.153264  1.481129  1.926337     2.132271  0.464582     -1.510824   \n",
       "2001-01-01  0.569271  0.761724  1.316131     1.369085  0.920230     -1.651465   \n",
       "2002-01-01 -0.181578 -0.047608  0.841526     1.050662  1.527760     -1.428364   \n",
       "2003-01-01 -0.431861 -0.317385  0.502523     0.727017  1.375878     -0.921734   \n",
       "2004-01-01 -0.431861 -0.407310  0.366921     0.855132  0.464582     -0.505691   \n",
       "2005-01-01 -0.682143 -0.497236  0.027918     0.734197  0.008934      0.023226   \n",
       "2006-01-01 -0.431861 -0.407310 -0.243285    -0.066746 -0.446714      0.396991   \n",
       "2007-01-01 -0.431861 -0.407310 -0.311086     0.260443 -0.750479      0.723090   \n",
       "2008-01-01  0.736126  0.851649  0.231320     0.239456 -0.598596     -0.220613   \n",
       "2009-01-01 -0.431861 -0.227459 -0.039883    -0.481963  1.072113     -0.791029   \n",
       "2010-01-01 -1.015854 -1.126716 -0.921292    -0.614358  1.072113      0.040607   \n",
       "2011-01-01 -1.182709 -1.396493 -1.395897    -1.099914  0.312699      0.167890   \n",
       "2012-01-01 -1.266137 -1.396493 -1.667099    -1.059153 -0.142948      0.394836   \n",
       "2013-01-01 -0.932426 -1.126716 -1.802701    -0.685909 -0.598596      1.103531   \n",
       "2014-01-01  1.236692  1.211352 -0.378886    -0.694881 -1.206127      1.019051   \n",
       "2015-01-01  1.904112  1.660980  0.570323    -1.109091 -1.509892      1.417783   \n",
       "2016-01-01  1.820685  1.391203  0.977128    -1.556248 -1.965540      1.742713   \n",
       "\n",
       "            民間最終消費支出  家計最終消費支出  除く持ち家の帰属家賃  \n",
       "2000-01-01 -1.932774 -1.979415   -1.994390  \n",
       "2001-01-01 -1.472514 -1.512728   -1.469122  \n",
       "2002-01-01 -1.171893 -1.163865   -1.103608  \n",
       "2003-01-01 -0.959983 -0.974869   -0.963380  \n",
       "2004-01-01 -0.679854 -0.666390   -0.623344  \n",
       "2005-01-01 -0.238669 -0.202550   -0.041338  \n",
       "2006-01-01 -0.038501  0.007318    0.171202  \n",
       "2007-01-01  0.193037  0.272012    0.466494  \n",
       "2008-01-01 -0.377175 -0.347188   -0.513253  \n",
       "2009-01-01 -0.130514 -0.107542   -0.258153  \n",
       "2010-01-01  0.250212  0.272437    0.200908  \n",
       "2011-01-01  0.468901  0.445471    0.389508  \n",
       "2012-01-01  0.929851  0.893327    0.928261  \n",
       "2013-01-01  1.706466  1.732832    2.023834  \n",
       "2014-01-01  0.974983  0.983245    0.836867  \n",
       "2015-01-01  1.200656  1.153176    0.990072  \n",
       "2016-01-01  1.277770  1.194729    0.959443  "
      ]
     },
     "execution_count": 187,
     "metadata": {},
     "output_type": "execute_result"
    }
   ],
   "source": [
    "#時系列データであるため、まずはプロットしたいが、単位が違いすぎるため、StandardScalerを使って「標準化」\n",
    "\n",
    "from sklearn.preprocessing import StandardScaler\n",
    "\n",
    "ss = StandardScaler()\n",
    "\n",
    "X_std = ss.fit_transform(x)\n",
    "\n",
    "X_std = pd.DataFrame(X_std, columns=x.columns)\n",
    "X_std = X_std.set_index(x.index)\n",
    "X_std"
   ]
  },
  {
   "cell_type": "code",
   "execution_count": 188,
   "metadata": {},
   "outputs": [
    {
     "data": {
      "text/plain": [
       "<matplotlib.legend.Legend at 0x1c258bf630>"
      ]
     },
     "execution_count": 188,
     "metadata": {},
     "output_type": "execute_result"
    },
    {
     "data": {
      "image/png": "[encoded data removed]",
      "text/plain": [
       "<Figure size 432x288 with 1 Axes>"
      ]
     },
     "metadata": {},
     "output_type": "display_data"
    }
   ],
   "source": [
    "plt.plot(X_std['国内総生産(支出側)実質'], label='GDP')\n",
    "plt.plot(X_std['完全失業率'], label='unemployment')\n",
    "plt.plot(X_std['CPI'], label='CPI')\n",
    "\n",
    "plt.legend()\n"
   ]
  },
  {
   "cell_type": "code",
   "execution_count": 199,
   "metadata": {},
   "outputs": [
    {
     "data": {
      "text/plain": [
       "<matplotlib.legend.Legend at 0x1c25fd5400>"
      ]
     },
     "execution_count": 199,
     "metadata": {},
     "output_type": "execute_result"
    },
    {
     "data": {
      "image/png": "[encoded data removed]",
      "text/plain": [
       "<Figure size 432x288 with 1 Axes>"
      ]
     },
     "metadata": {},
     "output_type": "display_data"
    }
   ],
   "source": [
    "plt.plot(X_std['家計最終消費支出'], label='disbursement')\n",
    "plt.plot(X_std['完全失業率'], label='unemployment')\n",
    "plt.legend()\n",
    "\n",
    "#関連性はありそうだが、時系列では単相関係数は使えない（理由：２変数とも、自己相関がある場合だと、相関係数が高く表示される。「見せかけの相関」になりやすい）"
   ]
  },
  {
   "cell_type": "code",
   "execution_count": 190,
   "metadata": {},
   "outputs": [],
   "source": [
    "import statsmodels.api as st  #自己相関を使う　　自己相関とは、過去の値が現在にどのくらい影響を与えているのかを表す"
   ]
  },
  {
   "cell_type": "code",
   "execution_count": 197,
   "metadata": {},
   "outputs": [
    {
     "data": {
      "text/plain": [
       "array([ 1.        ,  0.75711505,  0.56375903,  0.40520647,  0.18120254,\n",
       "        0.04785316,  0.00877445, -0.05177464, -0.0553916 , -0.15347511,\n",
       "       -0.28365866, -0.36581812, -0.43848724, -0.43671884, -0.29889375,\n",
       "       -0.2405831 , -0.13910965])"
      ]
     },
     "execution_count": 197,
     "metadata": {},
     "output_type": "execute_result"
    }
   ],
   "source": [
    "X_acf = st.tsa.stattools.acf(x['家計最終消費支出'])\n",
    "X_acf"
   ]
  },
  {
   "cell_type": "code",
   "execution_count": 198,
   "metadata": {},
   "outputs": [
    {
     "data": {
      "image/png": "[encoded data removed]",
      "text/plain": [
       "<Figure size 432x288 with 1 Axes>"
      ]
     },
     "metadata": {},
     "output_type": "display_data"
    }
   ],
   "source": [
    "fig = plt.figure()\n",
    "ax1 = fig.add_subplot(111) #add_subplot(1,1,1) add_subplot(列, 行, 場所)\n",
    "st.graphics.tsa.plot_acf(x['家計最終消費支出'], ax=ax1)\n",
    "plt.show() \n",
    "\n",
    "#青い枠は95%信頼区間。信頼区間の領域を超えてプロットされているデータは、統計的に有意差がある値とみることができる\n",
    "#有意がある => めったに起こらない領域がある。この値が大きいと「有意が大きい」となる\n",
    "#信頼区間 => 有意でないことが起こる確率。つまり、普通によくあることがよくおこる確率のこと\n",
    "\n",
    "#また、自己相関とラグ（日付の遅れ）をプロットしたグラフを「コレログラフ」という"
   ]
  },
  {
   "cell_type": "code",
   "execution_count": 193,
   "metadata": {},
   "outputs": [],
   "source": [
    "# # 例\n",
    "# fig1 = plt.figure()\n",
    "# fig1.add_subplot(1, 1, 1)   #全体の枠\n",
    "# fig1.add_subplot(3, 3, 1)   # 3x3の1つめ(左上)\n",
    "# fig1.add_subplot(3, 3, 3)   # 3x3の3つめ(右上)\n",
    "# fig1.add_subplot(3, 3, 8)   # 3x3の8つめ(真ん中下)"
   ]
  },
  {
   "cell_type": "markdown",
   "metadata": {},
   "source": [
    "コレログラフを見てみると１つの波のような形をしている。\n",
    "そのため、「民間最終消費支出」には「周期性がある」かもしれない\n",
    "しかし、経済時系列データは、「トレンド性」、「季節性」が入っているため、分解してやらないと難しい"
   ]
  },
  {
   "cell_type": "code",
   "execution_count": 207,
   "metadata": {},
   "outputs": [
    {
     "name": "stdout",
     "output_type": "stream",
     "text": [
      "2000-01-01    259196.1\n",
      "2001-01-01    263587.5\n",
      "2002-01-01    266870.2\n",
      "2003-01-01    268648.6\n",
      "2004-01-01    271551.3\n",
      "2005-01-01    275915.9\n",
      "2006-01-01    277890.7\n",
      "2007-01-01    280381.4\n",
      "2008-01-01    274554.9\n",
      "2009-01-01    276809.9\n",
      "2010-01-01    280385.4\n",
      "2011-01-01    282013.6\n",
      "2012-01-01    286227.8\n",
      "2013-01-01    294127.3\n",
      "2014-01-01    287073.9\n",
      "2015-01-01    288672.9\n",
      "2016-01-01    289063.9\n",
      "Name: 家計最終消費支出, dtype: float64 2000-01-01         NaN\n",
      "2001-01-01    259196.1\n",
      "2002-01-01    263587.5\n",
      "2003-01-01    266870.2\n",
      "2004-01-01    268648.6\n",
      "2005-01-01    271551.3\n",
      "2006-01-01    275915.9\n",
      "2007-01-01    277890.7\n",
      "2008-01-01    280381.4\n",
      "2009-01-01    274554.9\n",
      "2010-01-01    276809.9\n",
      "2011-01-01    280385.4\n",
      "2012-01-01    282013.6\n",
      "2013-01-01    286227.8\n",
      "2014-01-01    294127.3\n",
      "2015-01-01    287073.9\n",
      "2016-01-01    288672.9\n",
      "Name: 家計最終消費支出, dtype: float64\n"
     ]
    }
   ],
   "source": [
    "#階差系列データ作成　　階差系列とは一日ずらして計算する (n + 1 - n)の形になる　行う理由：トレンド成分の除去につながる\n",
    "X_acf_diff = x['家計最終消費支出'] - x['家計最終消費支出'].shift()\n",
    "X_acf_diff\n",
    "print(x['家計最終消費支出'] , x['家計最終消費支出'].shift()) #shift()は１行ずらす"
   ]
  },
  {
   "cell_type": "code",
   "execution_count": 210,
   "metadata": {},
   "outputs": [
    {
     "data": {
      "text/plain": [
       "2000-01-01       NaN\n",
       "2001-01-01    4391.4\n",
       "2002-01-01    3282.7\n",
       "2003-01-01    1778.4\n",
       "2004-01-01    2902.7\n",
       "2005-01-01    4364.6\n",
       "2006-01-01    1974.8\n",
       "2007-01-01    2490.7\n",
       "2008-01-01   -5826.5\n",
       "2009-01-01    2255.0\n",
       "2010-01-01    3575.5\n",
       "2011-01-01    1628.2\n",
       "2012-01-01    4214.2\n",
       "2013-01-01    7899.5\n",
       "2014-01-01   -7053.4\n",
       "2015-01-01    1599.0\n",
       "2016-01-01     391.0\n",
       "Name: 家計最終消費支出, dtype: float64"
      ]
     },
     "execution_count": 210,
     "metadata": {},
     "output_type": "execute_result"
    }
   ],
   "source": [
    "X_acf_diff #1次階差"
   ]
  },
  {
   "cell_type": "code",
   "execution_count": 255,
   "metadata": {},
   "outputs": [
    {
     "data": {
      "text/plain": [
       "[<matplotlib.lines.Line2D at 0x1c28508da0>]"
      ]
     },
     "execution_count": 255,
     "metadata": {},
     "output_type": "execute_result"
    },
    {
     "data": {
      "image/png": "[encoded data removed]",
      "text/plain": [
       "<Figure size 720x288 with 2 Axes>"
      ]
     },
     "metadata": {},
     "output_type": "display_data"
    }
   ],
   "source": [
    "X_acf_diff = X_acf_diff.dropna()\n",
    "\n",
    "fig = plt.figure(figsize=(10, 4))\n",
    "\n",
    "# 原型列のグラフ\n",
    "ax1 = fig.add_subplot(1,2, 1)\n",
    "plt.plot(x['家計最終消費支出'])\n",
    "\n",
    "# 階差系列のグラフ\n",
    "ax2 = fig.add_subplot(1, 2, 2)\n",
    "plt.plot(X_acf_diff)"
   ]
  },
  {
   "cell_type": "code",
   "execution_count": 260,
   "metadata": {},
   "outputs": [
    {
     "data": {
      "image/png": "[encoded data removed]",
      "text/plain": [
       "<Figure size 576x576 with 2 Axes>"
      ]
     },
     "metadata": {},
     "output_type": "display_data"
    }
   ],
   "source": [
    "# 階差系列データでコレログラム作成\n",
    "fig = plt.figure(figsize=(8, 8))\n",
    "\n",
    "# 自己相関(ACF)のグラフ\n",
    "ax1 = fig.add_subplot(211)\n",
    "st.graphics.tsa.plot_acf(X_acf_diff, ax=ax1) \n",
    "\n",
    "# 偏自己相関(PACF)のグラフ  PACFとは、ある時点同士だけの関係性を表す　今日と二日前の相関を求めることができる\n",
    "ax2 = fig.add_subplot(212)\n",
    "st.graphics.tsa.plot_pacf(X_acf_diff, ax=ax2)\n",
    "\n",
    "plt.tight_layout() "
   ]
  },
  {
   "cell_type": "markdown",
   "metadata": {},
   "source": [
    "上の２つのコレログラフは95%信頼係数のケースで考えた場合である。\n",
    "上は自己相関(ACF)である\n",
    "下は偏自己相関(PACF)である\n",
    "どちらも5%有意水準と比べると、信頼区間内にあるため、「相関性がない」と言える"
   ]
  },
  {
   "cell_type": "code",
   "execution_count": 262,
   "metadata": {},
   "outputs": [
    {
     "name": "stderr",
     "output_type": "stream",
     "text": [
      "/Users/kobayashi/.pyenv/versions/anaconda3-5.0.0/lib/python3.6/site-packages/statsmodels/tsa/kalmanf/kalmanfilter.py:646: FutureWarning: Conversion of the second argument of issubdtype from `float` to `np.floating` is deprecated. In future, it will be treated as `np.float64 == np.dtype(float).type`.\n",
      "  if issubdtype(paramsdtype, float):\n",
      "/Users/kobayashi/.pyenv/versions/anaconda3-5.0.0/lib/python3.6/site-packages/statsmodels/tsa/kalmanf/kalmanfilter.py:650: FutureWarning: Conversion of the second argument of issubdtype from `complex` to `np.complexfloating` is deprecated. In future, it will be treated as `np.complex128 == np.dtype(complex).type`.\n",
      "  elif issubdtype(paramsdtype, complex):\n",
      "/Users/kobayashi/.pyenv/versions/anaconda3-5.0.0/lib/python3.6/site-packages/scipy/signal/signaltools.py:1341: FutureWarning: Using a non-tuple sequence for multidimensional indexing is deprecated; use `arr[tuple(seq)]` instead of `arr[seq]`. In the future this will be interpreted as an array index, `arr[np.array(seq)]`, which will result either in an error or a different result.\n",
      "  out_full[ind] += zi\n",
      "/Users/kobayashi/.pyenv/versions/anaconda3-5.0.0/lib/python3.6/site-packages/scipy/signal/signaltools.py:1344: FutureWarning: Using a non-tuple sequence for multidimensional indexing is deprecated; use `arr[tuple(seq)]` instead of `arr[seq]`. In the future this will be interpreted as an array index, `arr[np.array(seq)]`, which will result either in an error or a different result.\n",
      "  out = out_full[ind]\n",
      "/Users/kobayashi/.pyenv/versions/anaconda3-5.0.0/lib/python3.6/site-packages/scipy/signal/signaltools.py:1350: FutureWarning: Using a non-tuple sequence for multidimensional indexing is deprecated; use `arr[tuple(seq)]` instead of `arr[seq]`. In the future this will be interpreted as an array index, `arr[np.array(seq)]`, which will result either in an error or a different result.\n",
      "  zf = out_full[ind]\n",
      "/Users/kobayashi/.pyenv/versions/anaconda3-5.0.0/lib/python3.6/site-packages/statsmodels/base/model.py:473: HessianInversionWarning: Inverting hessian failed, no bse or cov_params available\n",
      "  'available', HessianInversionWarning)\n",
      "/Users/kobayashi/.pyenv/versions/anaconda3-5.0.0/lib/python3.6/site-packages/statsmodels/base/model.py:496: ConvergenceWarning: Maximum Likelihood optimization failed to converge. Check mle_retvals\n",
      "  \"Check mle_retvals\", ConvergenceWarning)\n",
      "/Users/kobayashi/.pyenv/versions/anaconda3-5.0.0/lib/python3.6/site-packages/statsmodels/tsa/tsatools.py:585: RuntimeWarning: invalid value encountered in true_divide\n",
      "  (1+np.exp(-params))).copy()\n",
      "/Users/kobayashi/.pyenv/versions/anaconda3-5.0.0/lib/python3.6/site-packages/statsmodels/tsa/tsatools.py:587: RuntimeWarning: invalid value encountered in true_divide\n",
      "  (1+np.exp(-params))).copy()\n",
      "/Users/kobayashi/.pyenv/versions/anaconda3-5.0.0/lib/python3.6/site-packages/statsmodels/tsa/tsatools.py:628: RuntimeWarning: invalid value encountered in true_divide\n",
      "  newparams = ((1-np.exp(-params))/(1+np.exp(-params))).copy()\n",
      "/Users/kobayashi/.pyenv/versions/anaconda3-5.0.0/lib/python3.6/site-packages/statsmodels/tsa/tsatools.py:629: RuntimeWarning: invalid value encountered in true_divide\n",
      "  tmp = ((1-np.exp(-params))/(1+np.exp(-params))).copy()\n",
      "/Users/kobayashi/.pyenv/versions/anaconda3-5.0.0/lib/python3.6/site-packages/statsmodels/base/model.py:496: ConvergenceWarning: Maximum Likelihood optimization failed to converge. Check mle_retvals\n",
      "  \"Check mle_retvals\", ConvergenceWarning)\n"
     ]
    },
    {
     "data": {
      "text/plain": [
       "{'aic':             0           1           2\n",
       " 0         NaN  314.905848  316.757236\n",
       " 1  314.900408  316.936990  318.906916\n",
       " 2  316.725113  318.903130         NaN\n",
       " 3  317.955360  320.730112  322.344737\n",
       " 4  319.928641  321.956854  344.873338, 'aic_min_order': (1, 0)}"
      ]
     },
     "execution_count": 262,
     "metadata": {},
     "output_type": "execute_result"
    }
   ],
   "source": [
    "#ARMAモデルを使ってみる\n",
    "#まずは、自動AMRA次数決定関数を使ってどれが良いのかを求める\n",
    "resDiff = st.tsa.arma_order_select_ic(X_acf_diff, ic='aic', trend='nc')\n",
    "resDiff"
   ]
  },
  {
   "cell_type": "code",
   "execution_count": 266,
   "metadata": {},
   "outputs": [
    {
     "name": "stderr",
     "output_type": "stream",
     "text": [
      "/Users/kobayashi/.pyenv/versions/anaconda3-5.0.0/lib/python3.6/site-packages/scipy/signal/signaltools.py:1341: FutureWarning: Using a non-tuple sequence for multidimensional indexing is deprecated; use `arr[tuple(seq)]` instead of `arr[seq]`. In the future this will be interpreted as an array index, `arr[np.array(seq)]`, which will result either in an error or a different result.\n",
      "  out_full[ind] += zi\n",
      "/Users/kobayashi/.pyenv/versions/anaconda3-5.0.0/lib/python3.6/site-packages/scipy/signal/signaltools.py:1344: FutureWarning: Using a non-tuple sequence for multidimensional indexing is deprecated; use `arr[tuple(seq)]` instead of `arr[seq]`. In the future this will be interpreted as an array index, `arr[np.array(seq)]`, which will result either in an error or a different result.\n",
      "  out = out_full[ind]\n",
      "/Users/kobayashi/.pyenv/versions/anaconda3-5.0.0/lib/python3.6/site-packages/scipy/signal/signaltools.py:1350: FutureWarning: Using a non-tuple sequence for multidimensional indexing is deprecated; use `arr[tuple(seq)]` instead of `arr[seq]`. In the future this will be interpreted as an array index, `arr[np.array(seq)]`, which will result either in an error or a different result.\n",
      "  zf = out_full[ind]\n",
      "/Users/kobayashi/.pyenv/versions/anaconda3-5.0.0/lib/python3.6/site-packages/statsmodels/tsa/kalmanf/kalmanfilter.py:646: FutureWarning: Conversion of the second argument of issubdtype from `float` to `np.floating` is deprecated. In future, it will be treated as `np.float64 == np.dtype(float).type`.\n",
      "  if issubdtype(paramsdtype, float):\n",
      "/Users/kobayashi/.pyenv/versions/anaconda3-5.0.0/lib/python3.6/site-packages/statsmodels/tsa/kalmanf/kalmanfilter.py:650: FutureWarning: Conversion of the second argument of issubdtype from `complex` to `np.complexfloating` is deprecated. In future, it will be treated as `np.complex128 == np.dtype(complex).type`.\n",
      "  elif issubdtype(paramsdtype, complex):\n"
     ]
    },
    {
     "data": {
      "text/plain": [
       "const               1856.245606\n",
       "ar.L1.D.家計最終消費支出      -0.187647\n",
       "dtype: float64"
      ]
     },
     "execution_count": 266,
     "metadata": {},
     "output_type": "execute_result"
    }
   ],
   "source": [
    "from statsmodels.tsa.arima_model import ARIMA\n",
    "ARIMA_1_1_0 = ARIMA(x['家計最終消費支出'], order=(1, 1, 0)).fit(dist=False)\n",
    "ARIMA_1_1_0.params"
   ]
  },
  {
   "cell_type": "code",
   "execution_count": 285,
   "metadata": {},
   "outputs": [
    {
     "name": "stderr",
     "output_type": "stream",
     "text": [
      "/Users/kobayashi/.pyenv/versions/anaconda3-5.0.0/lib/python3.6/site-packages/statsmodels/tsa/kalmanf/kalmanfilter.py:577: FutureWarning: Conversion of the second argument of issubdtype from `float` to `np.floating` is deprecated. In future, it will be treated as `np.float64 == np.dtype(float).type`.\n",
      "  if issubdtype(paramsdtype, float):\n"
     ]
    },
    {
     "data": {
      "text/plain": [
       "2002-01-01    1380.530690\n",
       "2003-01-01    1588.575269\n",
       "2004-01-01    1870.853125\n",
       "2005-01-01    1659.881249\n",
       "2006-01-01    1385.559638\n",
       "2007-01-01    1833.999193\n",
       "2008-01-01    1737.191943\n",
       "2009-01-01    3297.892194\n",
       "2010-01-01    1781.420415\n",
       "2011-01-01    1533.632135\n",
       "2012-01-01    1899.037752\n",
       "2013-01-01    1413.781795\n",
       "2014-01-01     722.245143\n",
       "2015-01-01    3528.116685\n",
       "2016-01-01    1904.517054\n",
       "Freq: AS-JAN, dtype: float64"
      ]
     },
     "execution_count": 285,
     "metadata": {},
     "output_type": "execute_result"
    }
   ],
   "source": [
    "ari = ARIMA_1_1_0.predict('2002-01-01')\n",
    "ari"
   ]
  },
  {
   "cell_type": "code",
   "execution_count": 283,
   "metadata": {},
   "outputs": [
    {
     "data": {
      "text/plain": [
       "[<matplotlib.lines.Line2D at 0x1c26d716d8>]"
      ]
     },
     "execution_count": 283,
     "metadata": {},
     "output_type": "execute_result"
    },
    {
     "data": {
      "image/png": "[encoded data removed]",
      "text/plain": [
       "<Figure size 432x288 with 1 Axes>"
      ]
     },
     "metadata": {},
     "output_type": "display_data"
    }
   ],
   "source": [
    "plt.plot(x['家計最終消費支出'])\n",
    "plt.plot(ari)"
   ]
  },
  {
   "cell_type": "markdown",
   "metadata": {},
   "source": [
    "ARMAモデルを使って、解を出したが、全く見当外れだったため、もう一度やり直す必要がある"
   ]
  },
  {
   "cell_type": "code",
   "execution_count": null,
   "metadata": {
    "collapsed": true
   },
   "outputs": [],
   "source": []
  }
 ],
 "metadata": {
  "kernelspec": {
   "display_name": "Python 3",
   "language": "python",
   "name": "python3"
  },
  "language_info": {
   "codemirror_mode": {
    "name": "ipython",
    "version": 3
   },
   "file_extension": ".py",
   "mimetype": "text/x-python",
   "name": "python",
   "nbconvert_exporter": "python",
   "pygments_lexer": "ipython3",
   "version": "3.6.2"
  }
 },
 "nbformat": 4,
 "nbformat_minor": 2
}
